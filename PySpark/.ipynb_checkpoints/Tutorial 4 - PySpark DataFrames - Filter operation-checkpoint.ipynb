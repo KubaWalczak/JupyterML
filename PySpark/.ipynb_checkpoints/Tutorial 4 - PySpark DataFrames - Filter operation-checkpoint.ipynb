{
 "cells": [
  {
   "cell_type": "markdown",
   "id": "2e028e14",
   "metadata": {},
   "source": [
    "### Pyspark Dataframes\n",
    "- filter operation\n",
    "- &, |, ==\n",
    "- ~"
   ]
  },
  {
   "cell_type": "code",
   "execution_count": 1,
   "id": "c20e838c",
   "metadata": {},
   "outputs": [],
   "source": [
    "from pyspark.sql import SparkSession"
   ]
  },
  {
   "cell_type": "code",
   "execution_count": 2,
   "id": "423c1bb4",
   "metadata": {},
   "outputs": [],
   "source": [
    "spark=SparkSession.builder.appName('dataframe').getOrCreate()"
   ]
  },
  {
   "cell_type": "code",
   "execution_count": 5,
   "id": "417e9176",
   "metadata": {},
   "outputs": [
    {
     "name": "stdout",
     "output_type": "stream",
     "text": [
      "+-----+---+----------+------+\n",
      "| name|age|experience|salary|\n",
      "+-----+---+----------+------+\n",
      "|  ola| 25|         8| 10000|\n",
      "|kasia| 44|        10|  2000|\n",
      "| kuba| 55|         7|  4000|\n",
      "| bolo| 11|         8|  6000|\n",
      "| asdd| 33|         5|  3356|\n",
      "+-----+---+----------+------+\n",
      "\n"
     ]
    }
   ],
   "source": [
    "df_pyspark=spark.read.csv('test4.csv', header=True, inferSchema=True)\n",
    "df_pyspark.show()"
   ]
  },
  {
   "cell_type": "markdown",
   "id": "66019fa4",
   "metadata": {},
   "source": [
    "### Filter Operations"
   ]
  },
  {
   "cell_type": "code",
   "execution_count": 6,
   "id": "32a4df44",
   "metadata": {},
   "outputs": [
    {
     "name": "stdout",
     "output_type": "stream",
     "text": [
      "+-----+---+----------+------+\n",
      "| name|age|experience|salary|\n",
      "+-----+---+----------+------+\n",
      "|kasia| 44|        10|  2000|\n",
      "| kuba| 55|         7|  4000|\n",
      "| asdd| 33|         5|  3356|\n",
      "+-----+---+----------+------+\n",
      "\n"
     ]
    }
   ],
   "source": [
    "### Salary of the poeple less than or equal to 5000\n",
    "df_pyspark.filter(\"Salary<=5000\").show()"
   ]
  },
  {
   "cell_type": "code",
   "execution_count": 8,
   "id": "14761fce",
   "metadata": {},
   "outputs": [
    {
     "name": "stdout",
     "output_type": "stream",
     "text": [
      "+-----+---+\n",
      "| name|age|\n",
      "+-----+---+\n",
      "|kasia| 44|\n",
      "| kuba| 55|\n",
      "| asdd| 33|\n",
      "+-----+---+\n",
      "\n"
     ]
    }
   ],
   "source": [
    "# selecting filtered columns \n",
    "df_pyspark.filter(\"Salary<=5000\").select(['name','age']).show()"
   ]
  },
  {
   "cell_type": "code",
   "execution_count": 9,
   "id": "d0b70f41",
   "metadata": {},
   "outputs": [
    {
     "name": "stdout",
     "output_type": "stream",
     "text": [
      "+-----+---+----------+------+\n",
      "| name|age|experience|salary|\n",
      "+-----+---+----------+------+\n",
      "|kasia| 44|        10|  2000|\n",
      "| kuba| 55|         7|  4000|\n",
      "| asdd| 33|         5|  3356|\n",
      "+-----+---+----------+------+\n",
      "\n"
     ]
    }
   ],
   "source": [
    "# same output\n",
    "df_pyspark.filter(df_pyspark[\"salary\"]<=5000).show()"
   ]
  },
  {
   "cell_type": "code",
   "execution_count": 13,
   "id": "2a93d275",
   "metadata": {},
   "outputs": [
    {
     "name": "stdout",
     "output_type": "stream",
     "text": [
      "+----+---+----------+------+\n",
      "|name|age|experience|salary|\n",
      "+----+---+----------+------+\n",
      "|kuba| 55|         7|  4000|\n",
      "|asdd| 33|         5|  3356|\n",
      "+----+---+----------+------+\n",
      "\n"
     ]
    }
   ],
   "source": [
    "# multiple statements \n",
    "# & = and\n",
    "# | = or\n",
    "\n",
    "\n",
    "df_pyspark.filter((df_pyspark[\"salary\"]<=5000) &\n",
    "                  (df_pyspark['salary']>=3000)).show()"
   ]
  },
  {
   "cell_type": "code",
   "execution_count": 14,
   "id": "741597a8",
   "metadata": {},
   "outputs": [
    {
     "name": "stdout",
     "output_type": "stream",
     "text": [
      "+----+---+----------+------+\n",
      "|name|age|experience|salary|\n",
      "+----+---+----------+------+\n",
      "| ola| 25|         8| 10000|\n",
      "|bolo| 11|         8|  6000|\n",
      "+----+---+----------+------+\n",
      "\n"
     ]
    }
   ],
   "source": [
    "# filter all that are NOT fulfilling condition\n",
    "# ~ = not\n",
    "df_pyspark.filter(~(df_pyspark[\"salary\"]<=5000)).show()"
   ]
  },
  {
   "cell_type": "code",
   "execution_count": null,
   "id": "948826b4",
   "metadata": {},
   "outputs": [],
   "source": []
  }
 ],
 "metadata": {
  "kernelspec": {
   "display_name": "Python 3 (ipykernel)",
   "language": "python",
   "name": "python3"
  },
  "language_info": {
   "codemirror_mode": {
    "name": "ipython",
    "version": 3
   },
   "file_extension": ".py",
   "mimetype": "text/x-python",
   "name": "python",
   "nbconvert_exporter": "python",
   "pygments_lexer": "ipython3",
   "version": "3.7.11"
  }
 },
 "nbformat": 4,
 "nbformat_minor": 5
}
