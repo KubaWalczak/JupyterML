{
 "cells": [
  {
   "cell_type": "markdown",
   "id": "227618d9",
   "metadata": {},
   "source": [
    "## Examples of PySpark ML"
   ]
  },
  {
   "cell_type": "code",
   "execution_count": 1,
   "id": "c21c3dbc",
   "metadata": {},
   "outputs": [],
   "source": [
    "# Using Ml to show how much salary should one get, based on\n",
    "# age and experience\n",
    "from pyspark.sql import SparkSession\n",
    "spark=SparkSession.builder.appName('missing').getOrCreate()"
   ]
  },
  {
   "cell_type": "code",
   "execution_count": 2,
   "id": "320a9cbc",
   "metadata": {},
   "outputs": [],
   "source": [
    "## Read the dataset\n",
    "training = spark.read.csv('test4.csv', header = True, inferSchema=True)"
   ]
  },
  {
   "cell_type": "code",
   "execution_count": 3,
   "id": "6f07616d",
   "metadata": {},
   "outputs": [
    {
     "name": "stdout",
     "output_type": "stream",
     "text": [
      "+-----+---+----------+------+\n",
      "| name|age|experience|salary|\n",
      "+-----+---+----------+------+\n",
      "|  ola| 25|         8| 10000|\n",
      "|kasia| 44|        10| 12000|\n",
      "| kuba| 55|         7|  5000|\n",
      "| bolo| 28|         5|  6000|\n",
      "| asdd| 33|         5|  4000|\n",
      "+-----+---+----------+------+\n",
      "\n"
     ]
    }
   ],
   "source": [
    "training.show()"
   ]
  },
  {
   "cell_type": "code",
   "execution_count": 4,
   "id": "82891af9",
   "metadata": {},
   "outputs": [
    {
     "name": "stdout",
     "output_type": "stream",
     "text": [
      "root\n",
      " |-- name: string (nullable = true)\n",
      " |-- age: integer (nullable = true)\n",
      " |-- experience: integer (nullable = true)\n",
      " |-- salary: integer (nullable = true)\n",
      "\n"
     ]
    }
   ],
   "source": [
    "training.printSchema()"
   ]
  },
  {
   "cell_type": "code",
   "execution_count": 5,
   "id": "5ee9f4e7",
   "metadata": {},
   "outputs": [
    {
     "data": {
      "text/plain": [
       "['name', 'age', 'experience', 'salary']"
      ]
     },
     "execution_count": 5,
     "metadata": {},
     "output_type": "execute_result"
    }
   ],
   "source": [
    "training.columns"
   ]
  },
  {
   "cell_type": "markdown",
   "id": "9f9d45f1",
   "metadata": {},
   "source": [
    "[age, experience] --> new feature --> independent feature"
   ]
  },
  {
   "cell_type": "code",
   "execution_count": 6,
   "id": "b72c0ce8",
   "metadata": {},
   "outputs": [],
   "source": [
    "from pyspark.ml.feature import VectorAssembler\n",
    "featureassembler=VectorAssembler(inputCols=['age', 'experience'],\n",
    "                                 outputCol='Independent Features')"
   ]
  },
  {
   "cell_type": "code",
   "execution_count": 7,
   "id": "e3c39593",
   "metadata": {},
   "outputs": [],
   "source": [
    "output=featureassembler.transform(training)"
   ]
  },
  {
   "cell_type": "code",
   "execution_count": 8,
   "id": "55dbf6d0",
   "metadata": {},
   "outputs": [
    {
     "name": "stdout",
     "output_type": "stream",
     "text": [
      "+-----+---+----------+------+--------------------+\n",
      "| name|age|experience|salary|Independent Features|\n",
      "+-----+---+----------+------+--------------------+\n",
      "|  ola| 25|         8| 10000|          [25.0,8.0]|\n",
      "|kasia| 44|        10| 12000|         [44.0,10.0]|\n",
      "| kuba| 55|         7|  5000|          [55.0,7.0]|\n",
      "| bolo| 28|         5|  6000|          [28.0,5.0]|\n",
      "| asdd| 33|         5|  4000|          [33.0,5.0]|\n",
      "+-----+---+----------+------+--------------------+\n",
      "\n"
     ]
    }
   ],
   "source": [
    "output.show()"
   ]
  },
  {
   "cell_type": "code",
   "execution_count": 12,
   "id": "6a24d7e3",
   "metadata": {},
   "outputs": [],
   "source": [
    "finalized_data=output.select('Independent Features','salary')"
   ]
  },
  {
   "cell_type": "code",
   "execution_count": 13,
   "id": "bad50b50",
   "metadata": {},
   "outputs": [
    {
     "name": "stdout",
     "output_type": "stream",
     "text": [
      "+--------------------+------+\n",
      "|Independent Features|salary|\n",
      "+--------------------+------+\n",
      "|          [25.0,8.0]| 10000|\n",
      "|         [44.0,10.0]| 12000|\n",
      "|          [55.0,7.0]|  5000|\n",
      "|          [28.0,5.0]|  6000|\n",
      "|          [33.0,5.0]|  4000|\n",
      "+--------------------+------+\n",
      "\n"
     ]
    }
   ],
   "source": [
    "finalized_data.show()"
   ]
  },
  {
   "cell_type": "code",
   "execution_count": 15,
   "id": "a2f4fde3",
   "metadata": {},
   "outputs": [],
   "source": [
    "from pyspark.ml.regression import LinearRegression\n",
    "## train test split \n",
    "train_data,test_data=finalized_data.randomSplit([0.75,0.25])\n",
    "regressor=LinearRegression(featuresCol= 'Independent Features', labelCol='salary')\n",
    "regressor=regressor.fit(train_data)"
   ]
  },
  {
   "cell_type": "code",
   "execution_count": 16,
   "id": "0142b2d3",
   "metadata": {},
   "outputs": [
    {
     "data": {
      "text/plain": [
       "DenseVector([-101.2658, 1962.0253])"
      ]
     },
     "execution_count": 16,
     "metadata": {},
     "output_type": "execute_result"
    }
   ],
   "source": [
    "### Coefficients\n",
    "regressor.coefficients"
   ]
  },
  {
   "cell_type": "code",
   "execution_count": 17,
   "id": "e739a6c3",
   "metadata": {},
   "outputs": [
    {
     "data": {
      "text/plain": [
       "-3164.5569620250067"
      ]
     },
     "execution_count": 17,
     "metadata": {},
     "output_type": "execute_result"
    }
   ],
   "source": [
    "### Intercepts\n",
    "regressor.intercept"
   ]
  },
  {
   "cell_type": "code",
   "execution_count": 18,
   "id": "5bc2dfbd",
   "metadata": {},
   "outputs": [],
   "source": [
    "### Prediction\n",
    "pred_results=regressor.evaluate(test_data)"
   ]
  },
  {
   "cell_type": "code",
   "execution_count": 19,
   "id": "9f371905",
   "metadata": {},
   "outputs": [
    {
     "name": "stdout",
     "output_type": "stream",
     "text": [
      "+--------------------+------+-----------------+\n",
      "|Independent Features|salary|       prediction|\n",
      "+--------------------+------+-----------------+\n",
      "|          [28.0,5.0]|  6000|3810.126582278602|\n",
      "|          [33.0,5.0]|  4000|3303.797468354546|\n",
      "+--------------------+------+-----------------+\n",
      "\n"
     ]
    }
   ],
   "source": [
    "pred_results.predictions.show()"
   ]
  },
  {
   "cell_type": "code",
   "execution_count": 20,
   "id": "41366449",
   "metadata": {},
   "outputs": [
    {
     "name": "stdout",
     "output_type": "stream",
     "text": [
      "+-----+---+----------+------+\n",
      "| name|age|experience|salary|\n",
      "+-----+---+----------+------+\n",
      "|  ola| 25|         8| 10000|\n",
      "|kasia| 44|        10| 12000|\n",
      "| kuba| 55|         7|  5000|\n",
      "| bolo| 28|         5|  6000|\n",
      "| asdd| 33|         5|  4000|\n",
      "+-----+---+----------+------+\n",
      "\n"
     ]
    }
   ],
   "source": [
    "training.show()"
   ]
  },
  {
   "cell_type": "code",
   "execution_count": 21,
   "id": "d51d9a3a",
   "metadata": {},
   "outputs": [
    {
     "data": {
      "text/plain": [
       "(1443.037974683426, 2640121.775356168)"
      ]
     },
     "execution_count": 21,
     "metadata": {},
     "output_type": "execute_result"
    }
   ],
   "source": [
    "pred_results.meanAbsoluteError,pred_results.meanSquaredError"
   ]
  },
  {
   "cell_type": "code",
   "execution_count": null,
   "id": "85347ded",
   "metadata": {},
   "outputs": [],
   "source": []
  }
 ],
 "metadata": {
  "kernelspec": {
   "display_name": "Python 3 (ipykernel)",
   "language": "python",
   "name": "python3"
  },
  "language_info": {
   "codemirror_mode": {
    "name": "ipython",
    "version": 3
   },
   "file_extension": ".py",
   "mimetype": "text/x-python",
   "name": "python",
   "nbconvert_exporter": "python",
   "pygments_lexer": "ipython3",
   "version": "3.7.11"
  }
 },
 "nbformat": 4,
 "nbformat_minor": 5
}
