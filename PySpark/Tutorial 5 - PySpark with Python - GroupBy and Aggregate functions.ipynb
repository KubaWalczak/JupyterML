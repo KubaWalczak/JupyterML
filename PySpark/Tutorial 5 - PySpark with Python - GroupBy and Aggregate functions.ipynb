{
 "cells": [
  {
   "cell_type": "markdown",
   "id": "7d1e4c41",
   "metadata": {},
   "source": [
    "### PySpark GroupBy and Aggregate functions"
   ]
  },
  {
   "cell_type": "code",
   "execution_count": 1,
   "id": "d182ddec",
   "metadata": {},
   "outputs": [],
   "source": [
    "from pyspark.sql import SparkSession"
   ]
  },
  {
   "cell_type": "code",
   "execution_count": 2,
   "id": "e2ecf1d9",
   "metadata": {},
   "outputs": [],
   "source": [
    "spark = SparkSession.builder.appName('practise').getOrCreate()"
   ]
  },
  {
   "cell_type": "code",
   "execution_count": 3,
   "id": "705d45d8",
   "metadata": {},
   "outputs": [
    {
     "data": {
      "text/html": [
       "\n",
       "            <div>\n",
       "                <p><b>SparkSession - in-memory</b></p>\n",
       "                \n",
       "        <div>\n",
       "            <p><b>SparkContext</b></p>\n",
       "\n",
       "            <p><a href=\"http://DESKTOP-2DHP8FJ:4042\">Spark UI</a></p>\n",
       "\n",
       "            <dl>\n",
       "              <dt>Version</dt>\n",
       "                <dd><code>v2.4.0</code></dd>\n",
       "              <dt>Master</dt>\n",
       "                <dd><code>local[*]</code></dd>\n",
       "              <dt>AppName</dt>\n",
       "                <dd><code>practise</code></dd>\n",
       "            </dl>\n",
       "        </div>\n",
       "        \n",
       "            </div>\n",
       "        "
      ],
      "text/plain": [
       "<pyspark.sql.session.SparkSession at 0x220c8b2b988>"
      ]
     },
     "execution_count": 3,
     "metadata": {},
     "output_type": "execute_result"
    }
   ],
   "source": [
    "spark"
   ]
  },
  {
   "cell_type": "code",
   "execution_count": 4,
   "id": "2a996624",
   "metadata": {},
   "outputs": [
    {
     "name": "stdout",
     "output_type": "stream",
     "text": [
      "+------+-----------+------+\n",
      "|  name|departments|salary|\n",
      "+------+-----------+------+\n",
      "|   ola|         IT|4000.0|\n",
      "| kasia|         HR|5000.0|\n",
      "|  kuba|         IT|6000.0|\n",
      "|  bolo|        FIN|7000.0|\n",
      "|wojtek|         IT|8000.0|\n",
      "|maciek|        FIN|9000.0|\n",
      "|   ala|         HR|3000.0|\n",
      "+------+-----------+------+\n",
      "\n"
     ]
    }
   ],
   "source": [
    "df_pyspark = spark.read.csv('test5.csv', header = True, inferSchema=True)\n",
    "df_pyspark.show()"
   ]
  },
  {
   "cell_type": "code",
   "execution_count": 5,
   "id": "b578b708",
   "metadata": {},
   "outputs": [
    {
     "name": "stdout",
     "output_type": "stream",
     "text": [
      "root\n",
      " |-- name: string (nullable = true)\n",
      " |-- departments: string (nullable = true)\n",
      " |-- salary: double (nullable = true)\n",
      "\n"
     ]
    }
   ],
   "source": [
    "df_pyspark.printSchema()"
   ]
  },
  {
   "cell_type": "code",
   "execution_count": 6,
   "id": "f682b8cb",
   "metadata": {},
   "outputs": [
    {
     "name": "stdout",
     "output_type": "stream",
     "text": [
      "+-----------+-----------+\n",
      "|departments|sum(salary)|\n",
      "+-----------+-----------+\n",
      "|         IT|    18000.0|\n",
      "|        FIN|    16000.0|\n",
      "|         HR|     8000.0|\n",
      "+-----------+-----------+\n",
      "\n"
     ]
    }
   ],
   "source": [
    "## Groupby\n",
    "df_pyspark.groupBy('departments').sum().show()"
   ]
  },
  {
   "cell_type": "code",
   "execution_count": 7,
   "id": "f0dfd95a",
   "metadata": {},
   "outputs": [
    {
     "name": "stdout",
     "output_type": "stream",
     "text": [
      "+-----------+-----------+\n",
      "|departments|avg(salary)|\n",
      "+-----------+-----------+\n",
      "|         IT|     6000.0|\n",
      "|        FIN|     8000.0|\n",
      "|         HR|     4000.0|\n",
      "+-----------+-----------+\n",
      "\n"
     ]
    }
   ],
   "source": [
    "df_pyspark.groupBy('departments').mean().show()"
   ]
  },
  {
   "cell_type": "code",
   "execution_count": 8,
   "id": "adcfa47f",
   "metadata": {},
   "outputs": [
    {
     "name": "stdout",
     "output_type": "stream",
     "text": [
      "+-----------+-----+\n",
      "|departments|count|\n",
      "+-----------+-----+\n",
      "|         IT|    3|\n",
      "|        FIN|    2|\n",
      "|         HR|    2|\n",
      "+-----------+-----+\n",
      "\n"
     ]
    }
   ],
   "source": [
    "# how many people are in each department\n",
    "df_pyspark.groupBy('departments').count().show()"
   ]
  },
  {
   "cell_type": "code",
   "execution_count": 9,
   "id": "10a71f51",
   "metadata": {},
   "outputs": [
    {
     "name": "stdout",
     "output_type": "stream",
     "text": [
      "+-----------+\n",
      "|sum(salary)|\n",
      "+-----------+\n",
      "|    42000.0|\n",
      "+-----------+\n",
      "\n"
     ]
    }
   ],
   "source": [
    "# total sum of salary\n",
    "df_pyspark.agg({'salary':'sum'}).show()"
   ]
  },
  {
   "cell_type": "code",
   "execution_count": 10,
   "id": "835285e2",
   "metadata": {},
   "outputs": [
    {
     "name": "stdout",
     "output_type": "stream",
     "text": [
      "+------+-----------+\n",
      "|  name|max(salary)|\n",
      "+------+-----------+\n",
      "|  kuba|     6000.0|\n",
      "|  bolo|     7000.0|\n",
      "|wojtek|     8000.0|\n",
      "|maciek|     9000.0|\n",
      "|   ala|     3000.0|\n",
      "|   ola|     4000.0|\n",
      "| kasia|     5000.0|\n",
      "+------+-----------+\n",
      "\n"
     ]
    }
   ],
   "source": [
    "# nie rózni się od tabeli, ponieważ każdy ma inne imie\n",
    "# gdyby były te same imiona, pokazywałoby te same imiona z innymi wartościami\n",
    "# zależnie od funkcji max/min\n",
    "df_pyspark.groupBy('name').max().show()"
   ]
  },
  {
   "cell_type": "code",
   "execution_count": null,
   "id": "1882c1b6",
   "metadata": {},
   "outputs": [],
   "source": []
  }
 ],
 "metadata": {
  "kernelspec": {
   "display_name": "Python 3 (ipykernel)",
   "language": "python",
   "name": "python3"
  },
  "language_info": {
   "codemirror_mode": {
    "name": "ipython",
    "version": 3
   },
   "file_extension": ".py",
   "mimetype": "text/x-python",
   "name": "python",
   "nbconvert_exporter": "python",
   "pygments_lexer": "ipython3",
   "version": "3.7.11"
  }
 },
 "nbformat": 4,
 "nbformat_minor": 5
}
