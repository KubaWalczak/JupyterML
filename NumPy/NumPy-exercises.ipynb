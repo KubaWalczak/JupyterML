{
 "cells": [
  {
   "cell_type": "code",
   "execution_count": 2,
   "id": "41c3dfe5",
   "metadata": {},
   "outputs": [],
   "source": [
    "import numpy as np"
   ]
  },
  {
   "cell_type": "code",
   "execution_count": 3,
   "id": "18293ff2",
   "metadata": {},
   "outputs": [],
   "source": [
    "arra1 = np.array([1,2,3])"
   ]
  },
  {
   "cell_type": "code",
   "execution_count": 4,
   "id": "f29a3891",
   "metadata": {},
   "outputs": [
    {
     "data": {
      "text/plain": [
       "array([1, 2, 3])"
      ]
     },
     "execution_count": 4,
     "metadata": {},
     "output_type": "execute_result"
    }
   ],
   "source": [
    "arra1"
   ]
  },
  {
   "cell_type": "code",
   "execution_count": 6,
   "id": "ff1d8bbb",
   "metadata": {},
   "outputs": [
    {
     "data": {
      "text/plain": [
       "array([[1, 2, 3],\n",
       "       [4, 5, 6]])"
      ]
     },
     "execution_count": 6,
     "metadata": {},
     "output_type": "execute_result"
    }
   ],
   "source": [
    "arra2 = np.array([[1,2,3], [4,5,6]])\n",
    "arra2                  "
   ]
  },
  {
   "cell_type": "code",
   "execution_count": 7,
   "id": "c8307adf",
   "metadata": {},
   "outputs": [
    {
     "data": {
      "text/plain": [
       "(2, 3)"
      ]
     },
     "execution_count": 7,
     "metadata": {},
     "output_type": "execute_result"
    }
   ],
   "source": [
    "arra2.shape"
   ]
  },
  {
   "cell_type": "code",
   "execution_count": 8,
   "id": "2616e9d9",
   "metadata": {},
   "outputs": [
    {
     "data": {
      "text/plain": [
       "array([[[ 1,  2,  3],\n",
       "        [ 4,  5,  6]],\n",
       "\n",
       "       [[ 7,  8,  9],\n",
       "        [10, 11, 12]]])"
      ]
     },
     "execution_count": 8,
     "metadata": {},
     "output_type": "execute_result"
    }
   ],
   "source": [
    "arra3 = np.array([[[1,2,3], [4,5,6]], [[7,8,9], [10,11,12]]])\n",
    "arra3                  "
   ]
  },
  {
   "cell_type": "code",
   "execution_count": 9,
   "id": "8d929a8d",
   "metadata": {},
   "outputs": [
    {
     "data": {
      "text/plain": [
       "(2, 2, 3)"
      ]
     },
     "execution_count": 9,
     "metadata": {},
     "output_type": "execute_result"
    }
   ],
   "source": [
    "arra3.shape"
   ]
  },
  {
   "cell_type": "code",
   "execution_count": 10,
   "id": "3b071f58",
   "metadata": {},
   "outputs": [
    {
     "data": {
      "text/plain": [
       "numpy.ndarray"
      ]
     },
     "execution_count": 10,
     "metadata": {},
     "output_type": "execute_result"
    }
   ],
   "source": [
    "type(arra3)"
   ]
  },
  {
   "cell_type": "code",
   "execution_count": 11,
   "id": "25c41708",
   "metadata": {},
   "outputs": [
    {
     "data": {
      "text/plain": [
       "12"
      ]
     },
     "execution_count": 11,
     "metadata": {},
     "output_type": "execute_result"
    }
   ],
   "source": [
    "arra3.size"
   ]
  },
  {
   "cell_type": "code",
   "execution_count": 13,
   "id": "3a6d87bb",
   "metadata": {},
   "outputs": [
    {
     "data": {
      "text/plain": [
       "dtype('int32')"
      ]
     },
     "execution_count": 13,
     "metadata": {},
     "output_type": "execute_result"
    }
   ],
   "source": [
    "arra3.dtype"
   ]
  },
  {
   "cell_type": "code",
   "execution_count": 14,
   "id": "2f9a0c20",
   "metadata": {},
   "outputs": [],
   "source": [
    "import pandas as pd"
   ]
  },
  {
   "cell_type": "code",
   "execution_count": 20,
   "id": "0373cf77",
   "metadata": {},
   "outputs": [],
   "source": [
    "df2 = pd.DataFrame(arra2)"
   ]
  },
  {
   "cell_type": "code",
   "execution_count": 21,
   "id": "42a4e374",
   "metadata": {},
   "outputs": [
    {
     "data": {
      "text/html": [
       "<div>\n",
       "<style scoped>\n",
       "    .dataframe tbody tr th:only-of-type {\n",
       "        vertical-align: middle;\n",
       "    }\n",
       "\n",
       "    .dataframe tbody tr th {\n",
       "        vertical-align: top;\n",
       "    }\n",
       "\n",
       "    .dataframe thead th {\n",
       "        text-align: right;\n",
       "    }\n",
       "</style>\n",
       "<table border=\"1\" class=\"dataframe\">\n",
       "  <thead>\n",
       "    <tr style=\"text-align: right;\">\n",
       "      <th></th>\n",
       "      <th>0</th>\n",
       "      <th>1</th>\n",
       "      <th>2</th>\n",
       "    </tr>\n",
       "  </thead>\n",
       "  <tbody>\n",
       "    <tr>\n",
       "      <th>0</th>\n",
       "      <td>1</td>\n",
       "      <td>2</td>\n",
       "      <td>3</td>\n",
       "    </tr>\n",
       "    <tr>\n",
       "      <th>1</th>\n",
       "      <td>4</td>\n",
       "      <td>5</td>\n",
       "      <td>6</td>\n",
       "    </tr>\n",
       "  </tbody>\n",
       "</table>\n",
       "</div>"
      ],
      "text/plain": [
       "   0  1  2\n",
       "0  1  2  3\n",
       "1  4  5  6"
      ]
     },
     "execution_count": 21,
     "metadata": {},
     "output_type": "execute_result"
    }
   ],
   "source": [
    "df2"
   ]
  },
  {
   "cell_type": "code",
   "execution_count": 31,
   "id": "7c7dc20c",
   "metadata": {},
   "outputs": [
    {
     "data": {
      "text/plain": [
       "array([[1., 1.],\n",
       "       [1., 1.],\n",
       "       [1., 1.],\n",
       "       [1., 1.],\n",
       "       [1., 1.],\n",
       "       [1., 1.],\n",
       "       [1., 1.],\n",
       "       [1., 1.],\n",
       "       [1., 1.],\n",
       "       [1., 1.]])"
      ]
     },
     "execution_count": 31,
     "metadata": {},
     "output_type": "execute_result"
    }
   ],
   "source": [
    "ara1 = np.ones((10,2))\n",
    "ara1"
   ]
  },
  {
   "cell_type": "code",
   "execution_count": 32,
   "id": "666764c9",
   "metadata": {},
   "outputs": [
    {
     "data": {
      "text/plain": [
       "array([[[0., 0., 0.],\n",
       "        [0., 0., 0.]],\n",
       "\n",
       "       [[0., 0., 0.],\n",
       "        [0., 0., 0.]],\n",
       "\n",
       "       [[0., 0., 0.],\n",
       "        [0., 0., 0.]],\n",
       "\n",
       "       [[0., 0., 0.],\n",
       "        [0., 0., 0.]],\n",
       "\n",
       "       [[0., 0., 0.],\n",
       "        [0., 0., 0.]],\n",
       "\n",
       "       [[0., 0., 0.],\n",
       "        [0., 0., 0.]],\n",
       "\n",
       "       [[0., 0., 0.],\n",
       "        [0., 0., 0.]]])"
      ]
     },
     "execution_count": 32,
     "metadata": {},
     "output_type": "execute_result"
    }
   ],
   "source": [
    "ara2 = np.zeros((7,2,3))\n",
    "ara2"
   ]
  },
  {
   "cell_type": "code",
   "execution_count": 36,
   "id": "ac623c59",
   "metadata": {},
   "outputs": [
    {
     "data": {
      "text/plain": [
       "array([ 0,  3,  6,  9, 12, 15, 18, 21, 24, 27, 30, 33, 36, 39, 42, 45, 48,\n",
       "       51, 54, 57, 60, 63, 66, 69, 72, 75, 78, 81, 84, 87, 90, 93, 96, 99])"
      ]
     },
     "execution_count": 36,
     "metadata": {},
     "output_type": "execute_result"
    }
   ],
   "source": [
    "arra100 = np.arange(0,100,3)\n",
    "arra100"
   ]
  },
  {
   "cell_type": "code",
   "execution_count": 38,
   "id": "ff237f7d",
   "metadata": {},
   "outputs": [
    {
     "data": {
      "text/plain": [
       "array([[1, 5],\n",
       "       [8, 6],\n",
       "       [8, 4],\n",
       "       [6, 5],\n",
       "       [6, 2],\n",
       "       [7, 5],\n",
       "       [4, 5]])"
      ]
     },
     "execution_count": 38,
     "metadata": {},
     "output_type": "execute_result"
    }
   ],
   "source": [
    "arr4 = np.random.randint(0,10, size = (7,2))\n",
    "arr4"
   ]
  },
  {
   "cell_type": "code",
   "execution_count": 39,
   "id": "ae7e6860",
   "metadata": {},
   "outputs": [
    {
     "data": {
      "text/plain": [
       "array([[0.77416722, 0.95476655],\n",
       "       [0.70670209, 0.82916103],\n",
       "       [0.17775912, 0.91545063],\n",
       "       [0.70052334, 0.24090096],\n",
       "       [0.25643374, 0.29937003],\n",
       "       [0.25209428, 0.47462065],\n",
       "       [0.60839688, 0.48665971]])"
      ]
     },
     "execution_count": 39,
     "metadata": {},
     "output_type": "execute_result"
    }
   ],
   "source": [
    "arr5 = np.random.random(size = (7,2))\n",
    "arr5"
   ]
  },
  {
   "cell_type": "code",
   "execution_count": 41,
   "id": "a5be34e2",
   "metadata": {},
   "outputs": [],
   "source": [
    "np.random.seed(seed = 42)"
   ]
  },
  {
   "cell_type": "code",
   "execution_count": 47,
   "id": "bb1e2ab1",
   "metadata": {},
   "outputs": [
    {
     "data": {
      "text/plain": [
       "array([[9, 9, 2, 6, 0, 3],\n",
       "       [3, 4, 6, 6, 3, 6],\n",
       "       [2, 5, 1, 9, 8, 4],\n",
       "       [5, 3, 9, 6, 8, 6]])"
      ]
     },
     "execution_count": 47,
     "metadata": {},
     "output_type": "execute_result"
    }
   ],
   "source": [
    "ars = np.random.randint(0,10, size= (4,6))\n",
    "ars"
   ]
  },
  {
   "cell_type": "code",
   "execution_count": 48,
   "id": "ed6bf574",
   "metadata": {},
   "outputs": [
    {
     "data": {
      "text/plain": [
       "array([[1, 1, 9, 9, 4, 9, 3],\n",
       "       [7, 6, 8, 9, 5, 1, 3],\n",
       "       [8, 6, 8, 9, 4, 1, 1]])"
      ]
     },
     "execution_count": 48,
     "metadata": {},
     "output_type": "execute_result"
    }
   ],
   "source": [
    "ars2 = np.random.randint(1,10, size= (3,7))\n",
    "ars2"
   ]
  },
  {
   "cell_type": "code",
   "execution_count": 51,
   "id": "3548594a",
   "metadata": {},
   "outputs": [
    {
     "data": {
      "text/plain": [
       "array([1, 3, 4, 5, 6, 7, 8, 9])"
      ]
     },
     "execution_count": 51,
     "metadata": {},
     "output_type": "execute_result"
    }
   ],
   "source": [
    "np.unique(ars2)"
   ]
  },
  {
   "cell_type": "code",
   "execution_count": 52,
   "id": "e37659c6",
   "metadata": {},
   "outputs": [
    {
     "data": {
      "text/plain": [
       "array([9, 9, 2, 6, 0, 3])"
      ]
     },
     "execution_count": 52,
     "metadata": {},
     "output_type": "execute_result"
    }
   ],
   "source": [
    "ars[0]"
   ]
  },
  {
   "cell_type": "code",
   "execution_count": 53,
   "id": "76cc39a9",
   "metadata": {},
   "outputs": [
    {
     "data": {
      "text/plain": [
       "array([[9, 9, 2, 6, 0, 3],\n",
       "       [3, 4, 6, 6, 3, 6]])"
      ]
     },
     "execution_count": 53,
     "metadata": {},
     "output_type": "execute_result"
    }
   ],
   "source": [
    "ars[:2]"
   ]
  },
  {
   "cell_type": "code",
   "execution_count": 54,
   "id": "fc96ebeb",
   "metadata": {},
   "outputs": [
    {
     "data": {
      "text/plain": [
       "array([[9, 9],\n",
       "       [3, 4]])"
      ]
     },
     "execution_count": 54,
     "metadata": {},
     "output_type": "execute_result"
    }
   ],
   "source": [
    "ars[:2,:2]"
   ]
  },
  {
   "cell_type": "code",
   "execution_count": 56,
   "id": "768d444d",
   "metadata": {},
   "outputs": [
    {
     "data": {
      "text/plain": [
       "array([[4, 0, 0, 2, 1],\n",
       "       [4, 9, 5, 6, 3],\n",
       "       [6, 7, 0, 5, 7]])"
      ]
     },
     "execution_count": 56,
     "metadata": {},
     "output_type": "execute_result"
    }
   ],
   "source": [
    "ars3 = np.random.randint(0,10, size= (3,5))\n",
    "ars0 = np.ones(shape= (3,5))\n",
    "ars0 \n",
    "ars3"
   ]
  },
  {
   "cell_type": "code",
   "execution_count": 57,
   "id": "ac95c44e",
   "metadata": {},
   "outputs": [
    {
     "data": {
      "text/plain": [
       "array([[1., 1., 1., 1., 1.],\n",
       "       [1., 1., 1., 1., 1.],\n",
       "       [1., 1., 1., 1., 1.]])"
      ]
     },
     "execution_count": 57,
     "metadata": {},
     "output_type": "execute_result"
    }
   ],
   "source": [
    "ars0"
   ]
  },
  {
   "cell_type": "code",
   "execution_count": 61,
   "id": "4e07cc23",
   "metadata": {},
   "outputs": [],
   "source": [
    "ars4 = ars0 + ars3"
   ]
  },
  {
   "cell_type": "code",
   "execution_count": 59,
   "id": "0edbfdb5",
   "metadata": {},
   "outputs": [
    {
     "data": {
      "text/plain": [
       "array([[1., 1., 1., 1., 1.],\n",
       "       [1., 1., 1., 1., 1.],\n",
       "       [1., 1., 1., 1., 1.]])"
      ]
     },
     "execution_count": 59,
     "metadata": {},
     "output_type": "execute_result"
    }
   ],
   "source": [
    "ars5 = np.ones( shape= (3,5))\n",
    "ars5"
   ]
  },
  {
   "cell_type": "code",
   "execution_count": 74,
   "id": "1e5bfb73",
   "metadata": {},
   "outputs": [
    {
     "data": {
      "text/plain": [
       "array([[ 6.,  2.,  2.,  4.,  3.],\n",
       "       [ 6., 11.,  7.,  8.,  5.],\n",
       "       [ 8.,  9.,  2.,  7.,  9.]])"
      ]
     },
     "execution_count": 74,
     "metadata": {},
     "output_type": "execute_result"
    }
   ],
   "source": [
    "arsa = ars4 + ars5\n",
    "arsa"
   ]
  },
  {
   "cell_type": "code",
   "execution_count": 75,
   "id": "d90bd223",
   "metadata": {},
   "outputs": [
    {
     "data": {
      "text/plain": [
       "array([[1., 1., 1., 1., 1.],\n",
       "       [1., 1., 1., 1., 1.],\n",
       "       [1., 1., 1., 1., 1.]])"
      ]
     },
     "execution_count": 75,
     "metadata": {},
     "output_type": "execute_result"
    }
   ],
   "source": [
    "are1 = np.ones(shape =(3,5))\n",
    "are1"
   ]
  },
  {
   "cell_type": "code",
   "execution_count": 76,
   "id": "8fe4c46d",
   "metadata": {},
   "outputs": [
    {
     "data": {
      "text/plain": [
       "array([[ 5.,  1.,  1.,  3.,  2.],\n",
       "       [ 5., 10.,  6.,  7.,  4.],\n",
       "       [ 7.,  8.,  1.,  6.,  8.]])"
      ]
     },
     "execution_count": 76,
     "metadata": {},
     "output_type": "execute_result"
    }
   ],
   "source": [
    "arsa - are1"
   ]
  },
  {
   "cell_type": "code",
   "execution_count": 80,
   "id": "683d5e7e",
   "metadata": {},
   "outputs": [
    {
     "data": {
      "text/plain": [
       "array([[ 6.,  2.,  2.,  4.,  3.],\n",
       "       [ 6., 11.,  7.,  8.,  5.],\n",
       "       [ 8.,  9.,  2.,  7.,  9.]])"
      ]
     },
     "execution_count": 80,
     "metadata": {},
     "output_type": "execute_result"
    }
   ],
   "source": [
    "arda = are1*arsa\n",
    "arda"
   ]
  },
  {
   "cell_type": "code",
   "execution_count": 79,
   "id": "1ef0558a",
   "metadata": {},
   "outputs": [
    {
     "data": {
      "text/plain": [
       "array([[ 36.,   4.,   4.,  16.,   9.],\n",
       "       [ 36., 121.,  49.,  64.,  25.],\n",
       "       [ 64.,  81.,   4.,  49.,  81.]])"
      ]
     },
     "execution_count": 79,
     "metadata": {},
     "output_type": "execute_result"
    }
   ],
   "source": [
    "arda **2"
   ]
  },
  {
   "cell_type": "code",
   "execution_count": 81,
   "id": "99ab41e6",
   "metadata": {},
   "outputs": [
    {
     "data": {
      "text/plain": [
       "array([[ 36.,   4.,   4.,  16.,   9.],\n",
       "       [ 36., 121.,  49.,  64.,  25.],\n",
       "       [ 64.,  81.,   4.,  49.,  81.]])"
      ]
     },
     "execution_count": 81,
     "metadata": {},
     "output_type": "execute_result"
    }
   ],
   "source": [
    "np.square(arda)"
   ]
  },
  {
   "cell_type": "code",
   "execution_count": 84,
   "id": "043c44a0",
   "metadata": {},
   "outputs": [
    {
     "data": {
      "text/plain": [
       "array([[ 6.,  2.,  2.,  4.,  3.],\n",
       "       [ 6., 11.,  7.,  8.,  5.],\n",
       "       [ 8.,  9.,  2.,  7.,  9.]])"
      ]
     },
     "execution_count": 84,
     "metadata": {},
     "output_type": "execute_result"
    }
   ],
   "source": [
    "arda"
   ]
  },
  {
   "cell_type": "code",
   "execution_count": 85,
   "id": "e23eb82e",
   "metadata": {},
   "outputs": [
    {
     "data": {
      "text/plain": [
       "5.933333333333334"
      ]
     },
     "execution_count": 85,
     "metadata": {},
     "output_type": "execute_result"
    }
   ],
   "source": [
    "arda.mean()"
   ]
  },
  {
   "cell_type": "code",
   "execution_count": 86,
   "id": "4314abf4",
   "metadata": {},
   "outputs": [
    {
     "data": {
      "text/plain": [
       "11.0"
      ]
     },
     "execution_count": 86,
     "metadata": {},
     "output_type": "execute_result"
    }
   ],
   "source": [
    "arda.max()"
   ]
  },
  {
   "cell_type": "code",
   "execution_count": 87,
   "id": "4cd29c2b",
   "metadata": {},
   "outputs": [
    {
     "data": {
      "text/plain": [
       "2.0"
      ]
     },
     "execution_count": 87,
     "metadata": {},
     "output_type": "execute_result"
    }
   ],
   "source": [
    "arda.min()"
   ]
  },
  {
   "cell_type": "code",
   "execution_count": 88,
   "id": "87bb27ab",
   "metadata": {},
   "outputs": [
    {
     "data": {
      "text/plain": [
       "2.768071932270226"
      ]
     },
     "execution_count": 88,
     "metadata": {},
     "output_type": "execute_result"
    }
   ],
   "source": [
    "arda.std()"
   ]
  },
  {
   "cell_type": "code",
   "execution_count": 89,
   "id": "36c6cf89",
   "metadata": {},
   "outputs": [
    {
     "data": {
      "text/plain": [
       "7.662222222222221"
      ]
     },
     "execution_count": 89,
     "metadata": {},
     "output_type": "execute_result"
    }
   ],
   "source": [
    "arda.var()"
   ]
  },
  {
   "cell_type": "code",
   "execution_count": 91,
   "id": "73b59546",
   "metadata": {},
   "outputs": [
    {
     "data": {
      "text/plain": [
       "array([[[ 6.],\n",
       "        [ 2.],\n",
       "        [ 2.],\n",
       "        [ 4.],\n",
       "        [ 3.]],\n",
       "\n",
       "       [[ 6.],\n",
       "        [11.],\n",
       "        [ 7.],\n",
       "        [ 8.],\n",
       "        [ 5.]],\n",
       "\n",
       "       [[ 8.],\n",
       "        [ 9.],\n",
       "        [ 2.],\n",
       "        [ 7.],\n",
       "        [ 9.]]])"
      ]
     },
     "execution_count": 91,
     "metadata": {},
     "output_type": "execute_result"
    }
   ],
   "source": [
    "arda2 = arda.reshape(3,5,1)\n",
    "arda2"
   ]
  },
  {
   "cell_type": "code",
   "execution_count": 92,
   "id": "dba28eca",
   "metadata": {},
   "outputs": [
    {
     "data": {
      "text/plain": [
       "array([[[ 6.,  6.,  8.],\n",
       "        [ 2., 11.,  9.],\n",
       "        [ 2.,  7.,  2.],\n",
       "        [ 4.,  8.,  7.],\n",
       "        [ 3.,  5.,  9.]]])"
      ]
     },
     "execution_count": 92,
     "metadata": {},
     "output_type": "execute_result"
    }
   ],
   "source": [
    "arda2.T"
   ]
  },
  {
   "cell_type": "code",
   "execution_count": 94,
   "id": "7efa4911",
   "metadata": {},
   "outputs": [
    {
     "data": {
      "text/plain": [
       "array([[3, 3, 2],\n",
       "       [9, 2, 2],\n",
       "       [3, 6, 3]])"
      ]
     },
     "execution_count": 94,
     "metadata": {},
     "output_type": "execute_result"
    }
   ],
   "source": [
    "aca1 = np.random.randint(0,10,size=(3,3))\n",
    "aca1"
   ]
  },
  {
   "cell_type": "code",
   "execution_count": 95,
   "id": "1bae559f",
   "metadata": {},
   "outputs": [
    {
     "data": {
      "text/plain": [
       "array([[8, 0],\n",
       "       [7, 6],\n",
       "       [1, 7]])"
      ]
     },
     "execution_count": 95,
     "metadata": {},
     "output_type": "execute_result"
    }
   ],
   "source": [
    "aca2 = np.random.randint(0,10,size=(3,2))\n",
    "aca2"
   ]
  },
  {
   "cell_type": "code",
   "execution_count": 100,
   "id": "caaee514",
   "metadata": {},
   "outputs": [
    {
     "data": {
      "text/plain": [
       "array([[47, 32],\n",
       "       [88, 26],\n",
       "       [69, 57]])"
      ]
     },
     "execution_count": 100,
     "metadata": {},
     "output_type": "execute_result"
    }
   ],
   "source": [
    "aca1.dot(aca2)"
   ]
  },
  {
   "cell_type": "code",
   "execution_count": 101,
   "id": "f5ff3a2c",
   "metadata": {},
   "outputs": [
    {
     "data": {
      "text/plain": [
       "array([[0, 8, 8],\n",
       "       [1, 6, 9],\n",
       "       [2, 6, 9],\n",
       "       [8, 3, 0]])"
      ]
     },
     "execution_count": 101,
     "metadata": {},
     "output_type": "execute_result"
    }
   ],
   "source": [
    "acc1 = np.random.randint(0,10,size=(4,3))\n",
    "acc1\n"
   ]
  },
  {
   "cell_type": "code",
   "execution_count": 102,
   "id": "115784bf",
   "metadata": {},
   "outputs": [
    {
     "data": {
      "text/plain": [
       "array([[1, 0, 4],\n",
       "       [4, 6, 8],\n",
       "       [8, 2, 2],\n",
       "       [2, 3, 7]])"
      ]
     },
     "execution_count": 102,
     "metadata": {},
     "output_type": "execute_result"
    }
   ],
   "source": [
    "acc2 = np.random.randint(0,10,size=(4,3))\n",
    "acc2\n"
   ]
  },
  {
   "cell_type": "code",
   "execution_count": 103,
   "id": "01433bae",
   "metadata": {},
   "outputs": [
    {
     "ename": "ValueError",
     "evalue": "shapes (4,3) and (4,3) not aligned: 3 (dim 1) != 4 (dim 0)",
     "output_type": "error",
     "traceback": [
      "\u001b[1;31m---------------------------------------------------------------------------\u001b[0m",
      "\u001b[1;31mValueError\u001b[0m                                Traceback (most recent call last)",
      "\u001b[1;32m~\\AppData\\Local\\Temp/ipykernel_12824/1836463339.py\u001b[0m in \u001b[0;36m<module>\u001b[1;34m\u001b[0m\n\u001b[1;32m----> 1\u001b[1;33m \u001b[0macc2\u001b[0m\u001b[1;33m.\u001b[0m\u001b[0mdot\u001b[0m\u001b[1;33m(\u001b[0m\u001b[0macc1\u001b[0m\u001b[1;33m)\u001b[0m\u001b[1;33m\u001b[0m\u001b[1;33m\u001b[0m\u001b[0m\n\u001b[0m",
      "\u001b[1;31mValueError\u001b[0m: shapes (4,3) and (4,3) not aligned: 3 (dim 1) != 4 (dim 0)"
     ]
    }
   ],
   "source": [
    "acc2.dot(acc1)"
   ]
  },
  {
   "cell_type": "code",
   "execution_count": 104,
   "id": "59c8a20f",
   "metadata": {},
   "outputs": [
    {
     "data": {
      "text/plain": [
       "array([[ 32,  37,  38,   8],\n",
       "       [112, 112, 116,  50],\n",
       "       [ 32,  38,  46,  70],\n",
       "       [ 80,  83,  85,  25]])"
      ]
     },
     "execution_count": 104,
     "metadata": {},
     "output_type": "execute_result"
    }
   ],
   "source": [
    "acc2.dot(acc1.T)"
   ]
  },
  {
   "cell_type": "code",
   "execution_count": 106,
   "id": "65b52f5c",
   "metadata": {},
   "outputs": [
    {
     "data": {
      "text/plain": [
       "array([[8, 2, 8],\n",
       "       [1, 1, 1],\n",
       "       [5, 2, 8],\n",
       "       [3, 0, 3]])"
      ]
     },
     "execution_count": 106,
     "metadata": {},
     "output_type": "execute_result"
    }
   ],
   "source": [
    "vcc1 = np.random.randint(0,10,size=(4,3))\n",
    "vcc1\n"
   ]
  },
  {
   "cell_type": "code",
   "execution_count": 107,
   "id": "33ca8706",
   "metadata": {},
   "outputs": [
    {
     "data": {
      "text/plain": [
       "array([[0, 4, 3],\n",
       "       [7, 7, 6],\n",
       "       [2, 0, 0],\n",
       "       [2, 5, 6]])"
      ]
     },
     "execution_count": 107,
     "metadata": {},
     "output_type": "execute_result"
    }
   ],
   "source": [
    "vcc2 = np.random.randint(0,10,size=(4,3))\n",
    "vcc2\n"
   ]
  },
  {
   "cell_type": "code",
   "execution_count": 109,
   "id": "e09ce4d1",
   "metadata": {},
   "outputs": [
    {
     "data": {
      "text/plain": [
       "array([[ True, False,  True],\n",
       "       [False, False, False],\n",
       "       [ True,  True,  True],\n",
       "       [ True, False, False]])"
      ]
     },
     "execution_count": 109,
     "metadata": {},
     "output_type": "execute_result"
    }
   ],
   "source": [
    "vcc1 >= vcc2"
   ]
  },
  {
   "cell_type": "code",
   "execution_count": 111,
   "id": "06685d98",
   "metadata": {},
   "outputs": [
    {
     "data": {
      "text/plain": [
       "array([[ True, False,  True],\n",
       "       [False, False, False],\n",
       "       [False, False,  True],\n",
       "       [False, False, False]])"
      ]
     },
     "execution_count": 111,
     "metadata": {},
     "output_type": "execute_result"
    }
   ],
   "source": [
    "vcc1 > 7"
   ]
  },
  {
   "cell_type": "code",
   "execution_count": 112,
   "id": "872d72a7",
   "metadata": {},
   "outputs": [
    {
     "data": {
      "text/plain": [
       "array([[False, False, False],\n",
       "       [False, False, False],\n",
       "       [False, False, False],\n",
       "       [False, False, False]])"
      ]
     },
     "execution_count": 112,
     "metadata": {},
     "output_type": "execute_result"
    }
   ],
   "source": [
    "vcc1 == vcc2"
   ]
  },
  {
   "cell_type": "code",
   "execution_count": 119,
   "id": "4a475908",
   "metadata": {},
   "outputs": [
    {
     "data": {
      "text/plain": [
       "array([[8, 2, 8],\n",
       "       [1, 1, 1],\n",
       "       [5, 2, 8],\n",
       "       [3, 0, 3]])"
      ]
     },
     "execution_count": 119,
     "metadata": {},
     "output_type": "execute_result"
    }
   ],
   "source": [
    "vcc1"
   ]
  },
  {
   "cell_type": "code",
   "execution_count": 117,
   "id": "32bf88a4",
   "metadata": {},
   "outputs": [
    {
     "data": {
      "text/plain": [
       "array([[2, 8, 8],\n",
       "       [1, 1, 1],\n",
       "       [2, 5, 8],\n",
       "       [0, 3, 3]])"
      ]
     },
     "execution_count": 117,
     "metadata": {},
     "output_type": "execute_result"
    }
   ],
   "source": [
    "np.sort(vcc1)"
   ]
  },
  {
   "cell_type": "code",
   "execution_count": 118,
   "id": "01cac5bc",
   "metadata": {},
   "outputs": [
    {
     "data": {
      "text/plain": [
       "array([[1, 0, 2],\n",
       "       [0, 1, 2],\n",
       "       [1, 0, 2],\n",
       "       [1, 0, 2]], dtype=int64)"
      ]
     },
     "execution_count": 118,
     "metadata": {},
     "output_type": "execute_result"
    }
   ],
   "source": [
    "np.argsort(vcc1)"
   ]
  },
  {
   "cell_type": "code",
   "execution_count": 120,
   "id": "f39bb3fd",
   "metadata": {},
   "outputs": [
    {
     "data": {
      "text/plain": [
       "0"
      ]
     },
     "execution_count": 120,
     "metadata": {},
     "output_type": "execute_result"
    }
   ],
   "source": [
    "np.argmax(vcc1)"
   ]
  },
  {
   "cell_type": "code",
   "execution_count": 121,
   "id": "8ee5416c",
   "metadata": {},
   "outputs": [
    {
     "data": {
      "text/plain": [
       "10"
      ]
     },
     "execution_count": 121,
     "metadata": {},
     "output_type": "execute_result"
    }
   ],
   "source": [
    "np.argmin(vcc1)"
   ]
  },
  {
   "cell_type": "code",
   "execution_count": 123,
   "id": "4541e5d8",
   "metadata": {},
   "outputs": [
    {
     "data": {
      "text/plain": [
       "array([0, 0, 2, 0], dtype=int64)"
      ]
     },
     "execution_count": 123,
     "metadata": {},
     "output_type": "execute_result"
    }
   ],
   "source": [
    "np.argmax(vcc1, axis=1)"
   ]
  },
  {
   "cell_type": "code",
   "execution_count": 124,
   "id": "93f5e44c",
   "metadata": {},
   "outputs": [
    {
     "data": {
      "text/plain": [
       "array([1, 3, 1], dtype=int64)"
      ]
     },
     "execution_count": 124,
     "metadata": {},
     "output_type": "execute_result"
    }
   ],
   "source": [
    "np.argmin(vcc1, axis=0)"
   ]
  },
  {
   "cell_type": "code",
   "execution_count": 135,
   "id": "8da1071b",
   "metadata": {},
   "outputs": [
    {
     "data": {
      "text/plain": [
       "array([ 0.65720121, -0.27016109,  0.25677035,  0.47446999, -0.33105626,\n",
       "       -0.41131071, -0.07517096, -0.2308148 ,  0.5761663 , -0.50088414,\n",
       "        0.03423568,  1.27302417,  0.20652827,  0.28964507,  0.58034125,\n",
       "       -0.23147453, -0.54070981,  0.08825564,  0.13270191, -0.8091054 ,\n",
       "        0.18753596,  0.53492525, -0.45647404,  0.21777792,  0.44613183,\n",
       "        0.2933391 ,  0.34050312, -0.12240012, -0.56375217, -0.22357323,\n",
       "       -0.29302855, -0.04012952,  0.54663545, -0.65592006,  0.07212501,\n",
       "       -0.53170082, -0.37002346,  0.27937038, -0.59497253,  0.36712214,\n",
       "       -0.67608222,  0.3334902 , -0.77476563, -0.30890634,  0.94824719,\n",
       "        0.85427318, -0.20626233,  0.19498029,  0.60203401,  0.34064809,\n",
       "       -0.13673212, -0.37431766,  0.43405157,  0.56535165,  0.85785092,\n",
       "       -0.84362471, -0.62656239,  0.5809618 , -0.77576527,  0.61927498,\n",
       "       -0.10746625, -0.26045691,  0.1027143 , -0.67268423,  0.41200742,\n",
       "        0.8448185 ,  0.43528811, -0.12325435, -0.76901785, -0.74979373,\n",
       "       -0.66482165, -0.00613914,  0.05670003,  0.43422176, -0.89801449,\n",
       "        0.65560512,  0.34720316, -0.16341815, -0.59488077,  0.62457032,\n",
       "       -0.15004698, -0.01000945,  0.19180599, -0.45659945, -0.14109029,\n",
       "        0.43265845,  0.38204804,  0.3865536 , -0.57758988, -0.11829018,\n",
       "       -0.19819692,  0.21258942,  0.16782899,  0.07771367,  1.23286698,\n",
       "       -0.14540304, -0.20391154, -0.57837484, -0.76892366, -0.61015869,\n",
       "       -0.35934096,  0.65503655,  0.01958195,  0.09666533, -0.04813665,\n",
       "        0.1826505 ,  0.70103607, -0.99696542,  0.60916866, -1.25751923,\n",
       "        0.01410136,  1.09595368,  0.34032897,  0.18652947,  1.00097298,\n",
       "       -0.35153145,  0.21698371,  0.28905855, -0.26120107, -0.21705509,\n",
       "       -0.27188972,  0.04365749,  0.2733458 ,  0.06161514,  0.35473091,\n",
       "       -0.98457364, -0.10912558, -0.51170966,  0.15086126,  0.14345871,\n",
       "       -0.05781106,  0.25513951,  0.49890636, -0.03026026, -0.52584744,\n",
       "       -0.79062879,  0.01805509,  0.12093335, -0.48476194,  0.36288341,\n",
       "       -0.22947844, -0.82821643,  0.62821817,  0.57199396, -1.00779972,\n",
       "       -0.28130014, -0.30079184,  0.81974433, -0.04964636, -0.7479391 ,\n",
       "        0.44105239, -0.61538777, -0.13017025, -0.38488444, -0.28022755,\n",
       "        0.46862904,  0.76066508, -0.63718437,  0.31303821, -0.36637681,\n",
       "       -0.35083596,  0.24531811, -0.51395138,  0.2353013 ,  0.36505668,\n",
       "       -0.21626613,  0.66353905, -0.63641231,  0.6727031 , -0.97199371,\n",
       "        1.34985707, -0.20310112, -0.58115358, -0.11633595, -0.52323897,\n",
       "        0.19348265,  0.68382867, -0.49672811,  0.28969962, -0.76636768,\n",
       "        0.51647737,  0.20811818,  0.53809166, -0.06117345, -0.2175783 ,\n",
       "        0.40805872, -0.65402426, -0.87141217, -0.00248099, -0.1947983 ,\n",
       "        0.27691667,  0.54577571,  0.26650704,  0.50595166,  0.16052617,\n",
       "        0.24729787, -0.0583286 ,  0.23252273,  0.08332641,  0.1625884 ,\n",
       "       -0.08336202,  0.4044646 , -0.35522627, -0.00917451,  0.65589195,\n",
       "       -0.47436091, -1.08092273,  0.18322858, -0.12847725,  0.50543112,\n",
       "       -0.06525754, -0.30216954, -0.0379087 ,  0.54653429,  0.28768481,\n",
       "       -1.21695113,  0.09288375,  0.11788107, -0.00912498, -0.30544495,\n",
       "        0.59726594,  0.62201697, -1.10158023, -0.39897974, -0.07236533,\n",
       "        0.4742541 ,  0.01742644, -0.3417969 ,  0.35476679, -0.10566804,\n",
       "       -0.05870043, -0.01357922,  0.28715422, -0.1542748 ,  0.34347325,\n",
       "       -0.03653448, -0.53350829, -0.01838815, -0.5076067 ,  0.02049339,\n",
       "        0.41473696, -0.5368145 ,  0.1821367 , -0.41451873,  0.10085028,\n",
       "        0.43010212, -1.06475654, -0.55723791, -0.18448972,  0.15752024,\n",
       "       -0.08319166, -0.02294039,  1.02149226, -0.60622864,  0.56774251,\n",
       "       -0.17498906,  0.2747374 ,  1.06447328,  0.34433901,  0.18624785,\n",
       "        0.79956117,  0.56239932, -0.39969704,  0.14726237, -0.85874787,\n",
       "       -0.27007669,  0.15702648, -0.30105268,  0.13668337, -0.00669231,\n",
       "        0.26820837, -0.21209951, -0.47007446,  0.73906341, -0.24784837,\n",
       "        0.3300053 ,  0.71762351,  0.081335  , -0.42815328, -0.08930499,\n",
       "        0.50877046,  0.10312377, -0.6025709 ,  0.29832192,  0.38476573,\n",
       "       -0.17765594,  0.30512219,  0.1225093 , -0.09871477, -0.64676787,\n",
       "        0.53897695,  0.3796055 ,  0.29194315,  0.772263  ,  0.47259686,\n",
       "        0.343283  , -1.10661367,  0.59844748,  0.04154026,  0.15624584,\n",
       "        0.15966659,  0.38691637,  0.56108751,  0.31712057,  0.23764279,\n",
       "        0.11575637, -1.67580526, -0.14379551, -0.47079476,  0.60536977,\n",
       "        0.3095186 , -0.22906849, -0.17885859, -0.19699068, -0.20591308,\n",
       "       -0.72227872, -0.83063975,  0.01452339,  0.53765707, -0.26884485,\n",
       "        0.15172238,  0.36713046, -0.4966891 , -0.00998771, -0.33326024,\n",
       "        0.80305975,  0.78122975, -0.49617142,  0.19294219,  0.53379965,\n",
       "        0.42416475,  0.04078152,  0.65327873, -0.45225734, -0.15154647,\n",
       "       -0.43882121,  0.39124675, -0.29131844, -0.08562459,  0.30883518,\n",
       "        0.34912496, -0.45356317,  0.52832764,  0.22784483, -0.54085142,\n",
       "       -0.66385795, -0.00790986,  0.42504699,  0.43785793,  0.17808344,\n",
       "        0.02433742,  0.25586883, -0.42766526,  0.84349393,  0.83696921,\n",
       "        0.21440616,  0.09865021, -0.20571049,  0.26437442, -0.34565869,\n",
       "       -1.11180602, -1.35705365, -0.39974917,  0.07818906,  0.16598587,\n",
       "       -0.2433785 ,  0.07091758, -0.13711418, -0.49965638, -0.02687225,\n",
       "        0.40647856, -0.47703087, -0.47680231, -0.5346253 , -0.96825937,\n",
       "       -0.24010119,  0.35704306,  0.08695804, -0.08462544,  0.0645324 ,\n",
       "       -0.24449074, -0.97394332,  0.39185939,  0.53556229, -0.36407839,\n",
       "       -0.07541781, -0.11849959,  0.1756444 ,  0.84494673,  0.57989562,\n",
       "       -0.18845711,  0.27123193,  0.62717843,  0.20417258, -0.0023497 ,\n",
       "        0.22300005, -0.35163576, -0.27864056, -0.53201712,  0.15353226,\n",
       "       -0.06570145, -0.41155903, -0.08208971,  0.23499913,  0.95735615,\n",
       "        0.50603393, -1.14207393,  0.11965423,  0.71466213, -0.66893675,\n",
       "        0.27577964, -0.11832109,  0.57514527,  0.2021286 , -0.44200773,\n",
       "       -0.10042574, -0.07084784, -0.06158911,  0.55963147, -0.42130996,\n",
       "        0.50152565, -0.15112484,  0.11175555,  0.03618879, -0.01090267,\n",
       "       -0.00680142,  0.72867928,  0.42122496, -0.18135784,  0.79139363,\n",
       "        0.13734054,  0.17881213, -0.41865954, -0.24874933, -0.34425175,\n",
       "        0.04303643,  0.31939154,  0.18361615,  0.79402208, -0.443879  ,\n",
       "        0.05743452, -0.64146966, -0.46093549,  0.63228919, -0.23158243,\n",
       "       -0.4016819 , -1.06498844, -0.40667732, -0.10264014, -0.67870148,\n",
       "       -0.13139169,  0.63531553, -0.35365267, -0.47169152, -0.56195073,\n",
       "       -0.57088205,  0.26778872,  0.02433437,  0.47842844,  1.00991895,\n",
       "       -0.91519557,  0.19003935, -0.55930967,  0.39444965, -0.135956  ,\n",
       "        0.01366138, -0.64158871, -0.21321351,  0.04483113,  0.67803907,\n",
       "       -0.39728026, -0.27534579,  0.47214482, -0.42967014,  0.57119257,\n",
       "       -0.00454329,  0.15156148,  0.18376115, -0.30811028,  0.19494341,\n",
       "       -0.38618489, -0.2510515 ,  0.27934548,  0.14669698, -0.03748248,\n",
       "       -0.62936582, -0.50457914,  0.13835452,  0.36607028, -0.55482275,\n",
       "       -0.41991262,  0.06709259,  0.05639393, -0.8119786 ,  0.08078151,\n",
       "       -0.29918391,  0.82052331,  0.12459927,  0.21073672,  0.22367965,\n",
       "       -0.60696369,  0.97193845, -0.81145562,  0.39785157,  0.30933197,\n",
       "       -0.23850119,  0.33322516, -0.1587866 , -0.33773072,  0.23477958,\n",
       "       -0.5032805 , -0.11212758, -0.29708837, -0.16798975,  0.2163643 ,\n",
       "       -0.29718319, -0.09616196, -0.25157263,  0.72199833,  0.1713062 ,\n",
       "        0.11003482,  0.34170925, -0.29706729,  0.42962861,  0.17308887,\n",
       "       -0.78044545, -0.71401542, -0.28614853, -0.66050325, -0.11913923,\n",
       "       -0.506869  , -0.04886153,  0.70585469, -0.02468845, -0.15148223,\n",
       "        0.19412132, -0.3482099 ,  0.42170715,  0.24760648,  0.01943278,\n",
       "        0.07715792,  1.02087296,  0.47115611,  1.09976332,  0.2660151 ,\n",
       "       -0.73584572, -0.13108685, -0.85010244,  0.26415152,  0.3727021 ,\n",
       "       -0.442958  , -0.32781819,  0.07437545, -0.59905203, -0.63657988,\n",
       "        0.61931602,  0.05735531, -0.27905468, -0.84605944,  0.42617568,\n",
       "       -0.34225911,  0.93034222,  0.42965505, -0.40407093, -0.35773585,\n",
       "        0.86092558, -0.04212972, -0.25665561,  0.01386084, -0.25895633,\n",
       "        0.12052424, -0.03791181,  0.43775399, -0.19428705, -0.44240818,\n",
       "       -0.17449235, -0.17754195, -0.03876691,  0.31727014,  0.28995448,\n",
       "        0.59982934, -0.40574484,  0.19436006,  0.36365992, -0.3371102 ,\n",
       "       -0.10381553, -0.87498894,  0.45342885, -0.1077491 ,  0.40328209,\n",
       "        0.10302476, -0.09258261, -0.7964014 , -0.70747631, -1.29657309,\n",
       "       -0.28130674,  1.13912435, -0.64397369, -1.31571594,  0.48133446,\n",
       "        1.18185893,  0.14896053,  0.1443662 , -0.15494104, -0.89712862,\n",
       "       -0.72535596, -0.15837666, -0.25422767, -0.05758646,  0.41466241,\n",
       "       -0.29091892,  0.42485838, -0.28764485,  0.5191198 ,  0.04318378,\n",
       "       -0.21791517,  0.03464703, -0.14676942,  0.05656712,  0.3790531 ,\n",
       "       -0.0436078 , -0.18478443, -0.5617581 ,  0.28958901,  0.17413611,\n",
       "       -0.59097143,  0.41774714, -0.59909202,  0.5146109 ,  0.34393166,\n",
       "        0.20983276, -0.18849758,  0.28788989,  0.538186  ,  0.29617596,\n",
       "       -0.33512501,  0.13370349,  0.56601749,  1.09954909, -0.10260649,\n",
       "        0.42894155,  0.56724026, -0.4062025 ,  0.89103916, -0.53259234,\n",
       "        0.40449276,  0.15265989,  0.02778778,  1.27341664, -0.15062762,\n",
       "       -0.1586728 ,  0.6657394 ,  0.38090189,  0.64104946,  0.05843469,\n",
       "        0.15847131,  0.95046781, -0.41797704, -0.05143852,  0.39912704,\n",
       "       -0.09793041, -0.28507294,  0.30924226,  0.66790283, -0.07041718,\n",
       "       -0.08429481, -0.32384401, -0.14798842,  0.54180304,  0.04053144,\n",
       "       -0.40249533,  0.13118119,  0.52559701, -0.28094283, -0.66430261,\n",
       "        1.09541258, -0.68926468, -0.17951128,  0.11606426, -0.13621385,\n",
       "       -0.03745542,  0.28841908, -1.19586083, -0.63344724,  0.02212969,\n",
       "       -0.20210851,  0.06470563,  0.11382664, -1.05796   ,  0.63682017,\n",
       "       -0.24913394, -0.43275659,  0.10417765,  0.05358011,  0.59834541,\n",
       "        0.13593658,  0.57905542, -0.46908869,  0.07093053, -0.55737385,\n",
       "        0.04883793, -0.05714398, -0.07864871, -0.07426378,  0.36819474,\n",
       "       -0.80367983, -0.44989393, -0.02028591, -0.58933154,  0.02305705,\n",
       "       -0.02542626, -0.70187832, -0.72658257, -1.31189412, -0.61033502,\n",
       "        0.00716163,  0.07809391,  0.10094978, -0.38895941, -0.00915174,\n",
       "        0.1986223 , -0.63401777,  0.06166454,  0.32824061, -0.24538606,\n",
       "        0.53111717, -0.23371717, -0.43003043,  0.27842059,  1.01664688,\n",
       "        0.04267681,  0.3174539 , -0.25435861, -0.62080811,  0.08313282,\n",
       "        0.16219999, -0.17895555,  0.31552826, -0.32704   , -0.45104313,\n",
       "        0.53032147,  0.53267381, -0.31717155,  0.85942525, -0.14355335,\n",
       "        0.04239143, -0.04232627,  0.26188011,  0.13571075,  0.12898108,\n",
       "       -0.50978082, -0.84428116,  0.57108001, -0.272723  , -0.02451669,\n",
       "        0.16339945,  0.8145048 ,  0.08067896, -0.19739878, -0.26177219,\n",
       "       -0.01867842, -0.45468238,  0.01443786, -0.02600984,  0.82076347,\n",
       "       -0.04180057, -0.96224408,  1.33675549,  0.47841687,  1.04117437,\n",
       "       -0.57865999, -0.11091339,  0.33720062,  0.26819569,  0.15346885,\n",
       "       -1.09980536, -0.85621973,  0.75876005,  0.84766477, -0.05332565,\n",
       "        0.69521374, -0.51161388, -0.39721303, -0.55114016, -0.42495977,\n",
       "        0.361348  , -0.43117619,  1.11987152,  0.2300353 ,  0.54226352,\n",
       "        0.24497029,  0.60713483, -0.434     ,  0.72346677,  0.07046944,\n",
       "        0.60463306, -0.71978203,  0.0902916 ,  0.07261936, -0.30961823,\n",
       "        0.15655941,  0.76980342, -0.34807618,  0.48092718, -0.56371153,\n",
       "        1.0547223 ,  0.39230016,  0.86255867,  0.33603026,  0.19530659,\n",
       "        0.39646647, -0.06822373, -0.80891695,  0.22369967, -0.37775167,\n",
       "       -0.55083096,  0.31814658, -0.13955424,  0.5138522 , -0.39447038,\n",
       "       -0.23541449,  0.57514801,  0.13992133, -0.73866402,  0.12888044,\n",
       "        0.74061927, -0.23928872,  0.29902885, -0.42469346, -0.06839164,\n",
       "        0.54491777,  0.10961583,  0.64463493,  0.2126512 ,  1.10936984,\n",
       "       -0.78245668, -0.10859668, -0.5422669 , -0.50812459, -0.50359185,\n",
       "        0.08386291,  0.11315047,  0.21372796, -0.56153028, -0.16211241,\n",
       "       -0.48214732,  0.46794078, -0.43513378, -0.10685608,  0.28015322,\n",
       "       -0.30781434,  0.34693922,  0.79803987,  0.09485586,  0.45080546,\n",
       "       -1.03671044, -0.21452596,  0.09245041, -0.52648254,  0.10382467,\n",
       "        0.52997028, -0.93978031, -0.59453643,  0.09240664,  0.23020986,\n",
       "        0.36904019,  0.05544474,  0.2307562 ,  0.45174035, -0.20722905,\n",
       "       -0.30429304, -0.08425332,  0.09974397, -0.32913672, -0.19687866,\n",
       "        0.19885089,  0.07887539, -0.09266856, -0.87053466, -0.001754  ,\n",
       "       -0.48500198,  0.49154135, -0.15436058, -0.49811603, -0.03077164,\n",
       "        0.63534979,  0.31540792,  0.10995858, -0.66304753,  0.81080005,\n",
       "       -0.31081359,  0.46689196, -0.16268144,  0.41875394,  0.65343705,\n",
       "        0.32406863,  0.37792748, -0.04921949, -0.21698307,  0.06914934,\n",
       "       -0.16995725,  1.23360186, -0.49617914,  0.50104261,  0.25859842,\n",
       "        0.1149361 ,  0.73994305,  0.14918873, -0.31745346,  0.14586519,\n",
       "       -0.09158913,  0.25164233,  0.40653682, -0.42954397,  0.59766806,\n",
       "       -0.12744992,  0.22180696,  0.30851509,  0.18369435, -0.05455426,\n",
       "       -0.24429879, -0.13449725,  0.78258597, -0.43293322, -0.35962167,\n",
       "       -0.38157441,  0.06787694, -0.76235272, -0.67677993, -0.13047742,\n",
       "       -0.64388772, -0.60313565, -0.6401342 , -0.42330585,  0.36562325,\n",
       "        0.47785398,  0.95950045,  0.94118093,  0.39315635,  0.51383884,\n",
       "        0.06555105,  0.25993243,  0.97180152,  0.18560643,  0.57661929,\n",
       "       -0.4671758 , -0.33311936,  0.1560348 ,  0.07496584, -0.30996709,\n",
       "        1.20368879,  0.08629705, -0.22136253,  0.07580941,  0.01271335,\n",
       "        0.09390127, -0.79685851,  0.64597335,  0.67441471,  0.73516039,\n",
       "        0.16271588,  0.33124053, -0.43311347,  0.41644966,  0.12589385,\n",
       "       -0.23020331,  0.43237235,  0.45172452,  0.03030442,  0.21919129,\n",
       "       -0.51585851,  0.62159172, -0.44940659, -0.35271282,  0.03115782,\n",
       "        0.55725814,  0.55697432, -0.00241231,  0.38650668, -0.84452922,\n",
       "       -0.35966   , -0.34947522,  0.62610645,  0.32732708,  0.09232639,\n",
       "        0.14086753,  0.78416964, -0.08508983, -0.65703365,  0.54359759,\n",
       "        0.09091952,  0.47683584, -0.0223824 , -0.41934476,  0.20141086,\n",
       "        0.00508754,  0.09247114,  0.80828525, -0.54935124,  0.14295933])"
      ]
     },
     "execution_count": 135,
     "metadata": {},
     "output_type": "execute_result"
    }
   ],
   "source": [
    "mu, sigma = 0, 0.5\n",
    "arr = np.random.normal(mu,sigma, 1000)\n",
    "arr"
   ]
  },
  {
   "cell_type": "code",
   "execution_count": 129,
   "id": "19d512c3",
   "metadata": {},
   "outputs": [
    {
     "data": {
      "text/plain": [
       "0.007387600501570862"
      ]
     },
     "execution_count": 129,
     "metadata": {},
     "output_type": "execute_result"
    }
   ],
   "source": [
    "abs(mu - np.mean(arr))\n",
    "abs(sigma - np.std(arr, ddof=1))"
   ]
  },
  {
   "cell_type": "code",
   "execution_count": 131,
   "id": "cdbe359e",
   "metadata": {},
   "outputs": [
    {
     "data": {
      "image/png": "[encoded data removed]",
      "text/plain": [
       "<Figure size 432x288 with 1 Axes>"
      ]
     },
     "metadata": {
      "needs_background": "light"
     },
     "output_type": "display_data"
    }
   ],
   "source": [
    "import matplotlib.pyplot as plt\n",
    "count, bins, ignored = plt.hist(arr, 30, density=True)\n",
    "plt.plot(bins, 1/(sigma * np.sqrt(2 * np.pi)) *\n",
    "               np.exp( - (bins - mu)**2 / (2 * sigma**2) ),\n",
    "         linewidth=2, color='r')\n",
    "plt.show()"
   ]
  },
  {
   "cell_type": "code",
   "execution_count": 133,
   "id": "5da2df0a",
   "metadata": {},
   "outputs": [
    {
     "data": {
      "text/plain": [
       "array([  1.,  12.,  23.,  34.,  45.,  56.,  67.,  78.,  89., 100.])"
      ]
     },
     "execution_count": 133,
     "metadata": {},
     "output_type": "execute_result"
    }
   ],
   "source": [
    "arsa = np.linspace(1,100, 10)\n",
    "arsa"
   ]
  },
  {
   "cell_type": "code",
   "execution_count": 134,
   "id": "3317dd17",
   "metadata": {},
   "outputs": [
    {
     "data": {
      "text/plain": [
       "array([[-0.09688583, -1.40951132, -0.46681495, -0.42732468,  0.46169692],\n",
       "       [ 2.34704748,  0.52241861,  0.20684385,  2.4557762 ,  0.97889354],\n",
       "       [ 0.2542492 , -0.47941186,  0.31620008, -0.0663904 ,  0.09143413]])"
      ]
     },
     "execution_count": 134,
     "metadata": {},
     "output_type": "execute_result"
    }
   ],
   "source": [
    "np.random.randn(3,5)"
   ]
  },
  {
   "cell_type": "code",
   "execution_count": null,
   "id": "6dac2096",
   "metadata": {},
   "outputs": [],
   "source": []
  }
 ],
 "metadata": {
  "kernelspec": {
   "display_name": "Python 3 (ipykernel)",
   "language": "python",
   "name": "python3"
  },
  "language_info": {
   "codemirror_mode": {
    "name": "ipython",
    "version": 3
   },
   "file_extension": ".py",
   "mimetype": "text/x-python",
   "name": "python",
   "nbconvert_exporter": "python",
   "pygments_lexer": "ipython3",
   "version": "3.9.7"
  }
 },
 "nbformat": 4,
 "nbformat_minor": 5
}
